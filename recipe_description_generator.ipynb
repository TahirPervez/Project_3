{
 "cells": [
  {
   "cell_type": "code",
   "execution_count": 3,
   "metadata": {},
   "outputs": [],
   "source": [
    "from dotenv import load_dotenv\n",
    "import os\n",
    "\n",
    "from langchain_google_genai import ChatGoogleGenerativeAI\n",
    "from langchain import PromptTemplate\n",
    "from langchain.chains import LLMChain"
   ]
  },
  {
   "cell_type": "code",
   "execution_count": 4,
   "metadata": {},
   "outputs": [],
   "source": [
    "# Load environment variables.\n",
    "load_dotenv()\n",
    "\n",
    "# Set the model name for our LLMs.\n",
    "GEMINI_MODEL = \"gemini-1.5-flash\"\n",
    "# Store the API key in a variable.\n",
    "GEMINI_API_KEY = os.getenv(\"GEMINI_API_KEY\")\n",
    "\n",
    "llm = ChatGoogleGenerativeAI(api_key=GEMINI_API_KEY,model=GEMINI_MODEL, temperature=0.3)"
   ]
  },
  {
   "cell_type": "code",
   "execution_count": 5,
   "metadata": {},
   "outputs": [],
   "source": [
    "format = \"\"\"\n",
    "I want you to be working with a recipe generator to generate descriptions of \n",
    "recipes to suggest for people to try out. The recipe generator is going to take \n",
    "a series of ingredients, and from the ingredients generate a recipe using them so\n",
    "that you no longer have to wonder what to make when opening the fridge and looking \n",
    "inside. I intend to give your the recipe name and instructions, and to generate a\n",
    "description that gives a good overview on what the meal is like to someone who hasn't\n",
    "had it before. \n",
    "\n",
    "Recipe Name: {recipe_name}\n",
    "Ingredients: {ingredients}\n",
    "Directions: {directions}\n",
    "\n",
    "Answer:\n",
    "\"\"\""
   ]
  },
  {
   "cell_type": "code",
   "execution_count": 6,
   "metadata": {},
   "outputs": [
    {
     "name": "stderr",
     "output_type": "stream",
     "text": [
      "C:\\Users\\fsgin\\AppData\\Local\\Temp\\ipykernel_17240\\2791156218.py:6: LangChainDeprecationWarning: The class `LLMChain` was deprecated in LangChain 0.1.17 and will be removed in 1.0. Use :meth:`~RunnableSequence, e.g., `prompt | llm`` instead.\n",
      "  chain = LLMChain(llm=llm, prompt=prompt_template)\n"
     ]
    }
   ],
   "source": [
    "prompt_template = PromptTemplate(\n",
    "    input_variables=[\"query\"],\n",
    "    template=format\n",
    ")\n",
    "\n",
    "chain = LLMChain(llm=llm, prompt=prompt_template)"
   ]
  },
  {
   "cell_type": "code",
   "execution_count": 7,
   "metadata": {},
   "outputs": [],
   "source": [
    "recipe_name = \"\"\"\n",
    "Chicken Carnitas\n",
    "\"\"\""
   ]
  },
  {
   "cell_type": "code",
   "execution_count": 8,
   "metadata": {},
   "outputs": [],
   "source": [
    "ingredients = \"\"\"\n",
    "1 1/2 pounds boneless skinless chicken thighs\n",
    "1 large sweet onion, thinly sliced\n",
    "kosher salt and pepper, to taste\n",
    "2 organic oranges, zest and juice of\n",
    "2 Tablespoons olive oil\n",
    "3-4 garlic cloves, pressed\n",
    "1 teaspoon red pepper flakes, or to taste\n",
    "2 teaspoon smoked paprika\n",
    "1 teaspoon dried oregano\n",
    "\"\"\""
   ]
  },
  {
   "cell_type": "code",
   "execution_count": 9,
   "metadata": {},
   "outputs": [],
   "source": [
    "directions = \"\"\"\n",
    "1. Place the thighs and sliced onion in a deep dish. Sprinkle generously with salt and\n",
    "pepper.\n",
    "2. In a jug, whisk the orange juice, zest, oil, garlic, pepper flakes, paprika and oregano.\n",
    "Pour this mixture over the chicken and move around to coat. Allow the chicken to\n",
    "marinate for at least 30 minutes (or refrigerate overnight).\n",
    "3. Once you're ready to cook the chicken, preheat the oven to 425ºF. Remove the\n",
    "chicken from the marinade and transfer to a sheet pan. Bake for around 20 minutes,\n",
    "or until almost cooked through.\n",
    "4. Remove the chicken from the oven and carefully shred it using 2 forks. Spread the\n",
    "shredded chicken around your sheet pan and broil for 4-6 minutes, stirring each 2\n",
    "minutes, or until it start to get golden and slightly crisp.\n",
    "5. Serve the chicken carnitas in bowls or tacos.\n",
    "\"\"\""
   ]
  },
  {
   "cell_type": "code",
   "execution_count": 11,
   "metadata": {},
   "outputs": [
    {
     "name": "stdout",
     "output_type": "stream",
     "text": [
      "Chicken Carnitas: A vibrant and flavorful Mexican-inspired dish!  Tender shredded chicken is marinated in a zesty blend of orange juice, garlic, smoked paprika, and a touch of heat from red pepper flakes.  The marinade infuses the chicken with incredible flavor, resulting in juicy, succulent meat with a slightly sweet and smoky profile.  After baking and then broiling to achieve a crispy exterior, the chicken is perfect for enjoying on its own, piled into tacos with your favorite toppings, or served over rice and beans for a complete meal.  Prepare for a taste explosion that's both comforting and exciting!\n"
     ]
    }
   ],
   "source": [
    "query = {\n",
    "    \"recipe_name\" : recipe_name,\n",
    "    \"ingredients\" : ingredients,\n",
    "    \"directions\" : directions,\n",
    "}\n",
    "\n",
    "result = chain.invoke(query)\n",
    "print(result[\"text\"])"
   ]
  },
  {
   "cell_type": "code",
   "execution_count": null,
   "metadata": {},
   "outputs": [],
   "source": []
  }
 ],
 "metadata": {
  "kernelspec": {
   "display_name": "dev",
   "language": "python",
   "name": "python3"
  },
  "language_info": {
   "codemirror_mode": {
    "name": "ipython",
    "version": 3
   },
   "file_extension": ".py",
   "mimetype": "text/x-python",
   "name": "python",
   "nbconvert_exporter": "python",
   "pygments_lexer": "ipython3",
   "version": "3.12.5"
  }
 },
 "nbformat": 4,
 "nbformat_minor": 2
}
