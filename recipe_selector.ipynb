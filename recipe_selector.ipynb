{
 "cells": [
  {
   "cell_type": "code",
   "execution_count": 1,
   "metadata": {},
   "outputs": [],
   "source": [
    "from dotenv import load_dotenv\n",
    "import os\n",
    "\n",
    "from langchain_google_genai import ChatGoogleGenerativeAI\n",
    "from langchain import PromptTemplate\n",
    "from langchain.chains import LLMChain\n"
   ]
  },
  {
   "cell_type": "code",
   "execution_count": 2,
   "metadata": {},
   "outputs": [],
   "source": [
    "# Load environment variables.\n",
    "load_dotenv()\n",
    "\n",
    "# Set the model name for our LLMs.\n",
    "GEMINI_MODEL = \"gemini-1.5-flash\"\n",
    "# Store the API key in a variable.\n",
    "GEMINI_API_KEY = os.getenv(\"GEMINI_API_KEY\")\n",
    "\n",
    "llm = ChatGoogleGenerativeAI(api_key=GEMINI_API_KEY,model=GEMINI_MODEL, temperature=0.3)\n"
   ]
  },
  {
   "cell_type": "code",
   "execution_count": 3,
   "metadata": {},
   "outputs": [],
   "source": [
    "format = \"\"\"\n",
    "You are helping me plan out my meals based on what I have. I want to provide you\n",
    "a list of ingredients that I know for a fact that I have, and your job is to\n",
    "help me determine a main course that I can make using what I have. In addition, \n",
    "a simple side dish to go with it is wanted if it is not a meal that would be \n",
    "eaten without any. I want you to tell me 3 recipes that can be made for the main \n",
    "course with what I tell you I have, and I will specify the one I want to get the \n",
    "full instructions for.\n",
    "\n",
    "When selecting the recipes to make, try to ensure that they are a different from\n",
    "eachother as possible, since if I'm not in the mood for a certain style of food, \n",
    "I still have a decent selection to choose from.\n",
    "\n",
    "These are ingredients I always keep on hand, and should be factored less: {staples}\n",
    "Fresh Ingredients: {fresh_ingredients}\n",
    "\n",
    "Answer:\n",
    "\"\"\""
   ]
  },
  {
   "cell_type": "code",
   "execution_count": 4,
   "metadata": {},
   "outputs": [
    {
     "name": "stderr",
     "output_type": "stream",
     "text": [
      "C:\\Users\\fsgin\\AppData\\Local\\Temp\\ipykernel_19936\\2791156218.py:6: LangChainDeprecationWarning: The class `LLMChain` was deprecated in LangChain 0.1.17 and will be removed in 1.0. Use :meth:`~RunnableSequence, e.g., `prompt | llm`` instead.\n",
      "  chain = LLMChain(llm=llm, prompt=prompt_template)\n"
     ]
    }
   ],
   "source": [
    "prompt_template = PromptTemplate(\n",
    "    input_variables=[\"query\"],\n",
    "    template=format\n",
    ")\n",
    "\n",
    "chain = LLMChain(llm=llm, prompt=prompt_template)"
   ]
  },
  {
   "cell_type": "code",
   "execution_count": 5,
   "metadata": {},
   "outputs": [],
   "source": [
    "staples = \"\"\"\n",
    "Salt, oil, herbs and spices, \n",
    "condiments and sauces, bouillon cubes,\n",
    "pickles, pickled jalapenos, \n",
    "milk, eggs, mexican blend cheese, cheddar cheese\n",
    "canned beans, canned tomatos\n",
    "onions, garlic, \n",
    "dried pasta, dried rice, \n",
    "sandwich bread\n",
    "\"\"\"\n",
    "\n",
    "#TODO: In app, this could be a prefilled checklist and things get removed, or in here they could be trimmed"
   ]
  },
  {
   "cell_type": "code",
   "execution_count": 6,
   "metadata": {},
   "outputs": [],
   "source": [
    "ingredients = \"\"\"\n",
    "ground beef, cornmeal, jalapenos, fritos\n",
    "\"\"\"\n",
    "\n",
    "# TODO: Change ingredients to be reading in text input from a user"
   ]
  },
  {
   "cell_type": "code",
   "execution_count": 8,
   "metadata": {},
   "outputs": [
    {
     "name": "stdout",
     "output_type": "stream",
     "text": [
      "Okay, based on your fresh and pantry staples, here are three diverse main course ideas:\n",
      "\n",
      "1. **Spicy Beef and Cornmeal Fritter Cakes:**  Use the ground beef, cornmeal, jalapenos (both fresh and pickled), and Fritos to create savory fritters. These could be served with a simple side of Mexican rice (made with your rice, canned tomatoes, and spices).\n",
      "\n",
      "2. **Cheesy Beef & Bean Stuffed Baked Potatoes:** While you don't list potatoes, this is a suggestion assuming you can easily acquire them.  If not, skip to recipe 3. This would involve baking potatoes (if available), then topping them with a mixture of ground beef, canned beans, cheese, and your favorite spices.\n",
      "\n",
      "3. **Quick Beef & Bean Pasta:** A simple and satisfying pasta dish.  Sauté the ground beef with onions and garlic, then add canned beans and canned tomatoes. Simmer until thickened, and toss with your dried pasta.  A side salad (if you have lettuce or other greens) would complement this well, or even just some sliced pickles.\n",
      "\n",
      "\n",
      "Please let me know which recipe (1, 2, or 3) you'd like full instructions for.  If you choose option 2 and don't have potatoes, we can easily adapt it to use something else as a base.\n"
     ]
    }
   ],
   "source": [
    "query = {\n",
    "    \"fresh_ingredients\":ingredients,\n",
    "    \"staples\":staples,\n",
    "}\n",
    "\n",
    "result = chain.invoke(query)[\"text\"]\n",
    "print(result)"
   ]
  },
  {
   "cell_type": "code",
   "execution_count": null,
   "metadata": {},
   "outputs": [],
   "source": []
  }
 ],
 "metadata": {
  "kernelspec": {
   "display_name": "dev",
   "language": "python",
   "name": "python3"
  },
  "language_info": {
   "codemirror_mode": {
    "name": "ipython",
    "version": 3
   },
   "file_extension": ".py",
   "mimetype": "text/x-python",
   "name": "python",
   "nbconvert_exporter": "python",
   "pygments_lexer": "ipython3",
   "version": "3.12.5"
  }
 },
 "nbformat": 4,
 "nbformat_minor": 2
}
