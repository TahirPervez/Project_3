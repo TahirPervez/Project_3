{
 "cells": [
  {
   "cell_type": "code",
   "execution_count": 1,
   "metadata": {},
   "outputs": [],
   "source": [
    "from dotenv import load_dotenv\n",
    "import os\n",
    "\n",
    "from langchain_google_genai import ChatGoogleGenerativeAI\n",
    "from langchain import PromptTemplate\n",
    "from langchain.chains import LLMChain\n"
   ]
  },
  {
   "cell_type": "code",
   "execution_count": 2,
   "metadata": {},
   "outputs": [],
   "source": [
    "# Load environment variables.\n",
    "load_dotenv()\n",
    "\n",
    "# Set the model name for our LLMs.\n",
    "GEMINI_MODEL = \"gemini-1.5-flash\"\n",
    "# Store the API key in a variable.\n",
    "GEMINI_API_KEY = os.getenv(\"GEMINI_API_KEY\")\n",
    "\n",
    "llm = ChatGoogleGenerativeAI(api_key=GEMINI_API_KEY,model=GEMINI_MODEL, temperature=0.3)\n"
   ]
  },
  {
   "cell_type": "code",
   "execution_count": 3,
   "metadata": {},
   "outputs": [],
   "source": [
    "format = \"\"\"\n",
    "You are helping me plan out my meals based on what I have. I want to provide you\n",
    "a list of ingredients that I know for a fact that I have, and your job is to\n",
    "help me determine a main course that I can make using what I have. In addition, \n",
    "a simple side dish to go with it is wanted if it is not a meal that would be \n",
    "eaten without any. I want you to tell me 3 recipes that can be made for the main \n",
    "course with what I tell you I have, and I will specify the one I want to get the \n",
    "full instructions for.\n",
    "\n",
    "The following ingredients are staples always on hand:\n",
    "Salt, oil, herbs and spices, \n",
    "common condiments and sauces, bouillon cubes,\n",
    "pickles, pickled jalapenos, \n",
    "milk, egg, mexican blend cheese, cheddar cheese,\n",
    "canned beans, canned tomatos, \n",
    "onions, garlic, ginger, \n",
    "\n",
    "Question: {query}\n",
    "\n",
    "Answer:\n",
    "\"\"\""
   ]
  },
  {
   "cell_type": "code",
   "execution_count": 4,
   "metadata": {},
   "outputs": [
    {
     "name": "stderr",
     "output_type": "stream",
     "text": [
      "C:\\Users\\fsgin\\AppData\\Local\\Temp\\ipykernel_3204\\2791156218.py:6: LangChainDeprecationWarning: The class `LLMChain` was deprecated in LangChain 0.1.17 and will be removed in 1.0. Use :meth:`~RunnableSequence, e.g., `prompt | llm`` instead.\n",
      "  chain = LLMChain(llm=llm, prompt=prompt_template)\n"
     ]
    }
   ],
   "source": [
    "prompt_template = PromptTemplate(\n",
    "    input_variables=[\"query\"],\n",
    "    template=format\n",
    ")\n",
    "\n",
    "chain = LLMChain(llm=llm, prompt=prompt_template)"
   ]
  },
  {
   "cell_type": "code",
   "execution_count": 5,
   "metadata": {},
   "outputs": [],
   "source": [
    "ingredients = \"\"\"\n",
    "ground beef, cornmeal, jalapenos, fritos, \n",
    "\"\"\""
   ]
  },
  {
   "cell_type": "code",
   "execution_count": 6,
   "metadata": {},
   "outputs": [
    {
     "name": "stdout",
     "output_type": "stream",
     "text": [
      "With ground beef, cornmeal, jalapenos, Fritos, and your staple ingredients, you have options for some tasty Tex-Mex inspired meals! Here are three main course ideas:\n",
      "\n",
      "1. **Walking Tacos:**  A fun and easy option.  Crush the Fritos, use them as the \"bowl,\" and top with seasoned ground beef (cooked with onion, garlic, and your favorite spices), shredded cheese, and pickled jalapenos.  A dollop of sour cream or your favorite condiment would be a nice addition if you have it.  No side dish needed!\n",
      "\n",
      "2. **Beef and Cornmeal Fritters with a Spicy Dip:** Mix the ground beef with cornmeal, a beaten egg, chopped jalapenos, and seasonings. Form into small patties and fry until golden brown. Serve with a side of your favorite dipping sauce (perhaps a simple mixture of sour cream, lime juice, and chopped cilantro if you have it).\n",
      "\n",
      "3. **Sloppy Joes with a Cornbread Twist:** Brown the ground beef with onions and garlic. Add canned tomatoes, your favorite sloppy joe seasoning (or a mix of spices), and a touch of bouillon for extra flavor. Thicken slightly if needed. Serve on toasted cornbread (made from your cornmeal, egg, milk, and a touch of sugar and baking powder if you have it).  The cornbread itself acts as the side dish.\n",
      "\n",
      "\n",
      "Which recipe would you like full instructions for?  Let me know your choice (1, 2, or 3), and I'll provide a detailed recipe.\n"
     ]
    }
   ],
   "source": [
    "query = {\"query\":ingredients}\n",
    "\n",
    "result = chain.invoke(query)\n",
    "print(result[\"text\"])"
   ]
  }
 ],
 "metadata": {
  "kernelspec": {
   "display_name": "dev",
   "language": "python",
   "name": "python3"
  },
  "language_info": {
   "codemirror_mode": {
    "name": "ipython",
    "version": 3
   },
   "file_extension": ".py",
   "mimetype": "text/x-python",
   "name": "python",
   "nbconvert_exporter": "python",
   "pygments_lexer": "ipython3",
   "version": "3.12.5"
  }
 },
 "nbformat": 4,
 "nbformat_minor": 2
}
