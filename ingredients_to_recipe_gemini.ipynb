{
 "cells": [
  {
   "cell_type": "code",
   "execution_count": 1,
   "metadata": {},
   "outputs": [],
   "source": [
    "from dotenv import load_dotenv\n",
    "import os\n",
    "\n",
    "from langchain_google_genai import ChatGoogleGenerativeAI\n",
    "from langchain import PromptTemplate\n",
    "from langchain.chains import LLMChain\n"
   ]
  },
  {
   "cell_type": "code",
   "execution_count": 2,
   "metadata": {},
   "outputs": [],
   "source": [
    "# Load environment variables.\n",
    "load_dotenv()\n",
    "\n",
    "# Set the model name for our LLMs.\n",
    "GEMINI_MODEL = \"gemini-1.5-flash\"\n",
    "# Store the API key in a variable.\n",
    "GEMINI_API_KEY = os.getenv(\"GEMINI_API_KEY\")\n",
    "\n",
    "llm = ChatGoogleGenerativeAI(api_key=GEMINI_API_KEY,model=GEMINI_MODEL, temperature=0.3)\n"
   ]
  },
  {
   "cell_type": "code",
   "execution_count": 9,
   "metadata": {},
   "outputs": [],
   "source": [
    "format = \"\"\"\n",
    "You are helping me plan out my meals based on what I have. I want to provide you\n",
    "a list of ingredients that I know for a fact that I have, and your job is to\n",
    "help me determine a main course that I can make using what I have. In addition, \n",
    "a simple side dish to go with it is wanted if it is not a meal that would be \n",
    "eaten without any. I want you to tell me 3 recipes that can be made for the main \n",
    "course with what I tell you I have, and I will specify the one I want to get the \n",
    "full instructions for.\n",
    "\n",
    "When selecting the recipes to make, try to ensure that they are a different from\n",
    "eachother as possible, since if I'm not in the mood for a certain style of food, \n",
    "I still have a decent selection to choose from.\n",
    "\n",
    "These are ingredients I always keep on hand, and should be factored less.\n",
    "    Salt, oil, herbs and spices, \n",
    "    condiments and sauces, bouillon cubes,\n",
    "    pickles, pickled jalapenos, \n",
    "    milk, eggs, mexican blend cheese, cheddar cheese, parmesean\n",
    "    canned beans, canned tomatos, \n",
    "    onions, garlic, ginger, \n",
    "    dried pasta, dried rice, \n",
    "    frozen corn, frozen peas\n",
    "    \n",
    "Question: {query}\n",
    "\n",
    "Answer:\n",
    "\"\"\""
   ]
  },
  {
   "cell_type": "code",
   "execution_count": 10,
   "metadata": {},
   "outputs": [],
   "source": [
    "prompt_template = PromptTemplate(\n",
    "    input_variables=[\"query\"],\n",
    "    template=format\n",
    ")\n",
    "\n",
    "chain = LLMChain(llm=llm, prompt=prompt_template)"
   ]
  },
  {
   "cell_type": "code",
   "execution_count": 11,
   "metadata": {},
   "outputs": [],
   "source": [
    "ingredients = \"\"\"\n",
    "ground beef, cornmeal, jalapenos, fritos, \n",
    "\"\"\""
   ]
  },
  {
   "cell_type": "code",
   "execution_count": 12,
   "metadata": {},
   "outputs": [
    {
     "name": "stdout",
     "output_type": "stream",
     "text": [
      "Here are three main course ideas using your ingredients, aiming for variety:\n",
      "\n",
      "1. **Spicy Ground Beef and Cornmeal Skillet Cakes with Frito Topping:** This is a hearty, Southwestern-inspired dish. The cornmeal cakes act as a base for the seasoned ground beef, and the Fritos add a crunchy, salty element.  A simple side of Mexican rice (using your rice and some of your canned tomatoes and spices) would complement this well.\n",
      "\n",
      "2. **Cheesy Ground Beef and Bean Stuffed Shells:** Use your dried pasta shells, ground beef, canned beans (drained and rinsed), and your Mexican blend cheese for a filling and satisfying baked pasta dish.  This is a more classic, comforting option. No side dish is strictly necessary, but a simple green salad would be a nice addition.\n",
      "\n",
      "3. **Ground Beef and Jalapeno Quesadillas:** A quick and easy option!  Use your ground beef, jalapenos, and your choice of cheese (cheddar or Mexican blend) to create flavorful quesadillas with Fritos crushed on top for extra crunch.  Serve with a side of sour cream or your favorite salsa (if you have some on hand).\n",
      "\n",
      "\n",
      "Which recipe would you like full instructions for?  I'll provide them once you let me know your choice.\n"
     ]
    }
   ],
   "source": [
    "query = {\"query\":ingredients}\n",
    "\n",
    "result = chain.invoke(query)\n",
    "print(result[\"text\"])"
   ]
  }
 ],
 "metadata": {
  "kernelspec": {
   "display_name": "dev",
   "language": "python",
   "name": "python3"
  },
  "language_info": {
   "codemirror_mode": {
    "name": "ipython",
    "version": 3
   },
   "file_extension": ".py",
   "mimetype": "text/x-python",
   "name": "python",
   "nbconvert_exporter": "python",
   "pygments_lexer": "ipython3",
   "version": "3.12.5"
  }
 },
 "nbformat": 4,
 "nbformat_minor": 2
}
