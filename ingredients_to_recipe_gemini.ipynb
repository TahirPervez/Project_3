{
 "cells": [
  {
   "cell_type": "code",
   "execution_count": 24,
   "metadata": {},
   "outputs": [],
   "source": [
    "from dotenv import load_dotenv\n",
    "import os\n",
    "\n",
    "from langchain_google_genai import ChatGoogleGenerativeAI\n",
    "from langchain import PromptTemplate\n",
    "from langchain.chains import LLMChain\n"
   ]
  },
  {
   "cell_type": "code",
   "execution_count": 25,
   "metadata": {},
   "outputs": [],
   "source": [
    "# Load environment variables.\n",
    "load_dotenv()\n",
    "\n",
    "# Set the model name for our LLMs.\n",
    "GEMINI_MODEL = \"gemini-1.5-flash\"\n",
    "# Store the API key in a variable.\n",
    "GEMINI_API_KEY = os.getenv(\"GEMINI_API_KEY\")\n",
    "\n",
    "llm = ChatGoogleGenerativeAI(api_key=GEMINI_API_KEY,model=GEMINI_MODEL, temperature=0.3)\n"
   ]
  },
  {
   "cell_type": "code",
   "execution_count": 26,
   "metadata": {},
   "outputs": [],
   "source": [
    "format = \"\"\"\n",
    "You are helping me plan out my meals based on what I have. I want to provide you\n",
    "a list of ingredients that I know for a fact that I have, and your job is to\n",
    "help me determine a main course that I can make using what I have. In addition, \n",
    "a simple side dish to go with it is wanted if it is not a meal that would be \n",
    "eaten without any. I want you to tell me 3 recipes that can be made for the main \n",
    "course with what I tell you I have, and I will specify the one I want to get the \n",
    "full instructions for.\n",
    "\n",
    "When selecting the recipes to make, try to ensure that they are a different from\n",
    "eachother as possible, since if I'm not in the mood for a certain style of food, \n",
    "I still have a decent selection to choose from.\n",
    "\n",
    "These are ingredients I always keep on hand, and should be factored less: {staples}\n",
    "Fresh Ingredients: {fresh_ingredients}\n",
    "\n",
    "Answer:\n",
    "\"\"\""
   ]
  },
  {
   "cell_type": "code",
   "execution_count": 27,
   "metadata": {},
   "outputs": [],
   "source": [
    "prompt_template = PromptTemplate(\n",
    "    input_variables=[\"query\"],\n",
    "    template=format\n",
    ")\n",
    "\n",
    "chain = LLMChain(llm=llm, prompt=prompt_template)"
   ]
  },
  {
   "cell_type": "code",
   "execution_count": 28,
   "metadata": {},
   "outputs": [],
   "source": [
    "staples = \"\"\"\n",
    "Salt, oil, herbs and spices, \n",
    "condiments and sauces, bouillon cubes,\n",
    "pickles, pickled jalapenos, \n",
    "milk, eggs, mexican blend cheese, cheddar cheese\n",
    "canned beans, canned tomatos\n",
    "onions, garlic, \n",
    "dried pasta, dried rice, \n",
    "sandwich bread\n",
    "\"\"\"\n",
    "\n",
    "#TODO: In app, this could be a prefilled checklist and things get removed, or in here they could be trimmed"
   ]
  },
  {
   "cell_type": "code",
   "execution_count": 29,
   "metadata": {},
   "outputs": [],
   "source": [
    "ingredients = \"\"\"\n",
    "ground beef, cornmeal, jalapenos, fritos\n",
    "\"\"\"\n",
    "\n",
    "# TODO: Change ingredients to be reading in text input from a user"
   ]
  },
  {
   "cell_type": "code",
   "execution_count": 30,
   "metadata": {},
   "outputs": [
    {
     "name": "stdout",
     "output_type": "stream",
     "text": [
      "Okay, based on your ingredients, here are three diverse main course options, along with simple side suggestions:\n",
      "\n",
      "\n",
      "**1.  Spicy Frito Pie Casserole:** This uses many of your readily available ingredients for a hearty and flavorful meal.\n",
      "\n",
      "* **Main Course:**  A casserole combining ground beef, Fritos, canned beans (pinto or kidney would work well), jalapenos (both fresh and pickled), cornmeal (for a slightly thicker texture), and your Mexican blend cheese.  Season with your spices to taste.  You can add canned tomatoes for extra moisture and flavor.\n",
      "* **Side Dish:** A simple side salad with a vinaigrette dressing would cut through the richness of the casserole.\n",
      "\n",
      "\n",
      "**2.  Cheesy Beef & Bean Stuffed Peppers:**  A more substantial and visually appealing option.\n",
      "\n",
      "* **Main Course:**  While you don't have bell peppers listed, this recipe can be adapted.  Use the ground beef, canned beans, canned tomatoes, onions, garlic, and your Mexican blend cheese to create a filling.  You can use the cornmeal to thicken the mixture if needed.  Instead of stuffing peppers, you can bake the mixture in a casserole dish, topping it with the cheese.\n",
      "* **Side Dish:**  Steamed rice would be a perfect complement to soak up the delicious juices.\n",
      "\n",
      "\n",
      "**3.  Quick Ground Beef & Pasta:** A simple and satisfying pasta dish.\n",
      "\n",
      "* **Main Course:**  Brown the ground beef with onions and garlic.  Add your canned tomatoes and some spices.  Cook your dried pasta according to package directions.  Combine the beef mixture and pasta, and stir in some of your Mexican blend cheese.\n",
      "* **Side Dish:**  A simple green salad or some steamed green beans would be a nice contrast to the richness of the pasta dish.\n",
      "\n",
      "\n",
      "Which recipe would you like the full instructions for?  Let me know your choice (1, 2, or 3), and I'll provide a detailed recipe.\n"
     ]
    }
   ],
   "source": [
    "query = {\n",
    "    \"fresh_ingredients\":ingredients,\n",
    "    \"staples\":staples,\n",
    "}\n",
    "\n",
    "result = chain.invoke(query)\n",
    "print(result[\"text\"])"
   ]
  }
 ],
 "metadata": {
  "kernelspec": {
   "display_name": "dev",
   "language": "python",
   "name": "python3"
  },
  "language_info": {
   "codemirror_mode": {
    "name": "ipython",
    "version": 3
   },
   "file_extension": ".py",
   "mimetype": "text/x-python",
   "name": "python",
   "nbconvert_exporter": "python",
   "pygments_lexer": "ipython3",
   "version": "3.12.5"
  }
 },
 "nbformat": 4,
 "nbformat_minor": 2
}
